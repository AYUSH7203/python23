{
 "cells": [
  {
   "cell_type": "code",
   "execution_count": 1,
   "id": "0e114b3b",
   "metadata": {},
   "outputs": [
    {
     "name": "stdout",
     "output_type": "stream",
     "text": [
      "[23, 88, 67, 54, 23, 77, 65, 867, 67]\n"
     ]
    }
   ],
   "source": [
    "1.#What is List? How will you reverse a list?\n",
    "''' ans -  list are used to store multiple items in single variable.\n",
    "             The reverse() method is a built-in method that reverse the list in place. '''\n",
    "a=[67,867,65,77,23,54,67,88,23]\n",
    "a.reverse()\n",
    "print(a)"
   ]
  },
  {
   "cell_type": "code",
   "execution_count": 2,
   "id": "eb5e21a8",
   "metadata": {},
   "outputs": [
    {
     "name": "stdout",
     "output_type": "stream",
     "text": [
      "[66, 7, 45, 67, 83]\n",
      "[66, 7, 45, 67]\n"
     ]
    }
   ],
   "source": [
    "2.#How will you remove last object from a list? Suppose list1 is [2, 33, 222, 14, and 25], what is list1 [-1]? \n",
    "abc=[66,7,45,67,83]\n",
    "print(abc)\n",
    "abc.pop(-1)\n",
    "print(abc)"
   ]
  },
  {
   "cell_type": "code",
   "execution_count": 6,
   "id": "b94d5a74",
   "metadata": {},
   "outputs": [
    {
     "name": "stdout",
     "output_type": "stream",
     "text": [
      "[28, 66, 46, 87, 34, 24, 23, 76, ['krish', 'shyam']]\n",
      "[54, 5, 34, 46, 23, 87, 45, 'yash', 'jemin']\n"
     ]
    }
   ],
   "source": [
    "3.#Differentiate between append () and extend () methods?\n",
    "'''     append()                                                                 extend()\n",
    "> This is used for add new list in other list   > This is used for add element in other list\n",
    "    (nested list)                                               \n",
    "'''\n",
    "#append()              \n",
    "a1=[28,66,46,87,34,24,23,76]\n",
    "b=['krish','shyam']\n",
    "a1.append(b)\n",
    "print(a1)\n",
    "#extend()\n",
    "yy=[54,5,34,46,23,87,45]\n",
    "xx=['yash','jemin']\n",
    "yy.extend(xx)\n",
    "print(yy)\n"
   ]
  },
  {
   "cell_type": "code",
   "execution_count": 10,
   "id": "cf477d63",
   "metadata": {},
   "outputs": [
    {
     "name": "stdout",
     "output_type": "stream",
     "text": [
      "How many numbers: 3\n",
      "Enter number 2\n",
      "Enter number 1\n",
      "Enter number 5\n",
      "Maximum element in the list is : 5\n",
      "Minimum element in the list is : 1\n",
      " sum element in the list is : 8\n"
     ]
    }
   ],
   "source": [
    "'''4.Write a Python function to get the largest number, smallest num and sum\n",
    "of all from a list. '''\n",
    "rr= []\n",
    "n= int(input('How many numbers: '))\n",
    "for n1 in range(n):\n",
    "    num = int(input('Enter number '))\n",
    "    rr.append(num)\n",
    "print(\"Maximum element in the list is :\", max(rr))\n",
    "print(\"Minimum element in the list is :\", min(rr))\n",
    "print(\" sum element in the list is :\", sum(rr))"
   ]
  },
  {
   "cell_type": "code",
   "execution_count": 13,
   "id": "02fe6f12",
   "metadata": {},
   "outputs": [
    {
     "name": "stdout",
     "output_type": "stream",
     "text": [
      "The list1 and list2 are not equal\n"
     ]
    }
   ],
   "source": [
    "5.#How will you compare two lists? \n",
    "l = [5656,34,54,57,67,454,32,]  \n",
    "l1 = [34,45,576,343,465,34]  \n",
    "if l== l1:  \n",
    "    print(\"The list1 and list2 are equal\")  \n",
    "else:  \n",
    "    print(\"The list1 and list2 are not equal\")  "
   ]
  },
  {
   "cell_type": "code",
   "execution_count": 23,
   "id": "956914cf",
   "metadata": {},
   "outputs": [
    {
     "name": "stdout",
     "output_type": "stream",
     "text": [
      "1\n"
     ]
    }
   ],
   "source": [
    "'''6.Write a Python program to count the number of strings where the string\n",
    "length is 2 or more and the first and last character are same from a given\n",
    "list of strings. '''\n",
    "l=[\"ayush\",\"shxs\",\"6555\",\"xhh\"]\n",
    "yy = 0\n",
    "for a in l:\n",
    "\tif len(a) >= 2 and a[0] == a[-1]:\n",
    "\t   yy+= 1\n",
    "print(yy)"
   ]
  },
  {
   "cell_type": "code",
   "execution_count": 25,
   "id": "2c37bda4",
   "metadata": {},
   "outputs": [
    {
     "name": "stdout",
     "output_type": "stream",
     "text": [
      "[4, 332, 23, 33, 44, 53, 46, 3, 2, 5]\n"
     ]
    }
   ],
   "source": [
    "7.#Write a Python program to remove duplicates from a list?\n",
    "list=[4,332,23,33,44,33,44,53,46,3,2,4,5,5]\n",
    "newlist=[]\n",
    "for y in list:\n",
    "    if y not in newlist:\n",
    "        newlist.append(y)\n",
    "    else:\n",
    "        pass\n",
    "d=newlist\n",
    "print(d)"
   ]
  },
  {
   "cell_type": "code",
   "execution_count": 27,
   "id": "590e885d",
   "metadata": {},
   "outputs": [
    {
     "name": "stdout",
     "output_type": "stream",
     "text": [
      "list is not empty\n",
      "Empty list\n"
     ]
    }
   ],
   "source": [
    "8.#Write a Python program to check a list is empty or not?\n",
    "a = [4,5,3,2,1]     #using not operator\n",
    "if not a:\n",
    "  print(\"List is empty\")\n",
    "else:\n",
    "    print(\"list is not empty\")\n",
    "#using len()\n",
    "\n",
    "l = []\n",
    "\n",
    "# Checking whether the list size is equal to 0\n",
    "if len(l) == 0:\n",
    "   print('Empty list')\n",
    "else:\n",
    "   print('Not Empty list')"
   ]
  },
  {
   "cell_type": "code",
   "execution_count": 28,
   "id": "24d115a5",
   "metadata": {},
   "outputs": [
    {
     "name": "stdout",
     "output_type": "stream",
     "text": [
      "True\n"
     ]
    }
   ],
   "source": [
    "9.#Write a Python function that takes two lists and returns true if they have at least one common member?\n",
    "l1=[5,434,4455,5656,56,54,]\n",
    "l2=[6,34,56,54,434]\n",
    "r=False\n",
    "for y in l1:\n",
    "    for t in l2:\n",
    "        if y==t:\n",
    "            r=True\n",
    "print(r)"
   ]
  },
  {
   "cell_type": "code",
   "execution_count": null,
   "id": "002365dd",
   "metadata": {},
   "outputs": [],
   "source": [
    "\n"
   ]
  },
  {
   "cell_type": "code",
   "execution_count": 33,
   "id": "60962022",
   "metadata": {},
   "outputs": [
    {
     "name": "stdout",
     "output_type": "stream",
     "text": [
      "[1, 5, 7, 46, 6, 4]\n"
     ]
    }
   ],
   "source": [
    "11.#Write a Python function that takes a list and returns a new list with unique elements of the first list?\n",
    "l1=[1,5,7,46,5,6,4,4,]\n",
    "tt=[]\n",
    "for y in l1:\n",
    "    if y not in tt:\n",
    "        tt.append(y)\n",
    "    else:\n",
    "        pass\n",
    "print(tt)"
   ]
  },
  {
   "cell_type": "code",
   "execution_count": 35,
   "id": "2558805a",
   "metadata": {},
   "outputs": [
    {
     "name": "stdout",
     "output_type": "stream",
     "text": [
      "ayush\n"
     ]
    }
   ],
   "source": [
    "12.#Write a Python program to convert a list of characters into a string?\n",
    "l1= ['a', 'y', 'u', 's','h']\n",
    "s =''.join(l1)\n",
    "print(s)"
   ]
  },
  {
   "cell_type": "code",
   "execution_count": 36,
   "id": "6b2d5903",
   "metadata": {},
   "outputs": [
    {
     "name": "stdout",
     "output_type": "stream",
     "text": [
      "Black\n"
     ]
    }
   ],
   "source": [
    "13.#Write a Python program to select an item randomly from a list?\n",
    "import random\n",
    "colorlist= ['white', 'purple', 'pink', 'White', 'Black']\n",
    "print(random.choice(colorlist))"
   ]
  },
  {
   "cell_type": "code",
   "execution_count": 38,
   "id": "b1ecd9bf",
   "metadata": {},
   "outputs": [
    {
     "name": "stdout",
     "output_type": "stream",
     "text": [
      "Largest element is: 455\n",
      "Smallest element is: 15\n",
      "Second Largest element is: 431\n",
      "Second Smallest element is: 23\n"
     ]
    }
   ],
   "source": [
    "14.#Write a Python program to find the second smallest number in a list?\n",
    "l1=[15, 455, 234, 431, 23, 134, 24, 26, 84]\n",
    "len1 = len(l1)\n",
    "l1.sort()\n",
    "print(\"Largest element is:\", l1[len1-1])\n",
    "print(\"Smallest element is:\", l1[0])\n",
    "print(\"Second Largest element is:\", l1[len1-2])\n",
    "print(\"Second Smallest element is:\", l1[1])\n",
    " "
   ]
  },
  {
   "cell_type": "code",
   "execution_count": 40,
   "id": "95033c29",
   "metadata": {},
   "outputs": [
    {
     "name": "stdout",
     "output_type": "stream",
     "text": [
      "[1, 3, 56, 53, 543, 354, 4, 46, 67, 86, 33]\n"
     ]
    }
   ],
   "source": [
    "15.#Write a Python program to get unique values from a list?\n",
    "l1=[1,3,56,56,53,543,354,4,4,3,46,67,86,3,33,3,3,3,]\n",
    "n=[]\n",
    "for t in l1:\n",
    "    if t not in n:\n",
    "        n.append(t)\n",
    "print(n)"
   ]
  },
  {
   "cell_type": "code",
   "execution_count": 41,
   "id": "6f08e456",
   "metadata": {},
   "outputs": [
    {
     "name": "stdout",
     "output_type": "stream",
     "text": [
      "This is sub list\n"
     ]
    }
   ],
   "source": [
    "16.#Write a Python program to check whether a list contains a sub list?\n",
    "list1=[1,2,[3,4,5],6,7]\n",
    "list2=[3,4,5]\n",
    "if list2 in list1:\n",
    "    print(\"This is sub list\")\n",
    "else:\n",
    "    print(\"Not a sub list\")"
   ]
  },
  {
   "cell_type": "code",
   "execution_count": 42,
   "id": "355e0c2a",
   "metadata": {},
   "outputs": [
    {
     "name": "stdout",
     "output_type": "stream",
     "text": [
      "['Black', '#000000', 'rgb(0, 0, 0)']\n",
      "['Red', '#FF0000', 'rgb(255, 0, 0)']\n",
      "['orange', '#FFFF00', 'rgb(255, 255, 0)']\n",
      "['pink', '#FFFF00', 'rgb(255, 255, 0)']\n"
     ]
    }
   ],
   "source": [
    "17.#Write a Python program to split a list into different variables?\n",
    "color = [[\"Black\", \"#000000\", \"rgb(0, 0, 0)\"], [\"Red\", \"#FF0000\", \"rgb(255, 0, 0)\"],\n",
    "         [\"orange\", \"#FFFF00\", \"rgb(255, 255, 0)\"], [\"pink\", \"#FFFF00\", \"rgb(255, 255, 0)\"]]\n",
    "var1, var2, var3,var4 = color\n",
    "print(var1)\n",
    "print(var2)\n",
    "print(var3)\n",
    "print(var4) "
   ]
  },
  {
   "cell_type": "code",
   "execution_count": null,
   "id": "1155da73",
   "metadata": {},
   "outputs": [],
   "source": [
    "18.#What is tuple? Difference between list and tuple?\n",
    "''' Ans:- Tuple is represented by ( ) if only one element in tuple so after\n",
    "            mention comma, then it is define tuple\n",
    "            length of tuple is fixed and immutable. \n",
    "            length of list is not fixed and mutable.\n",
    "            '''\n",
    "\n",
    "      "
   ]
  },
  {
   "cell_type": "code",
   "execution_count": 44,
   "id": "c295a588",
   "metadata": {},
   "outputs": [
    {
     "name": "stdout",
     "output_type": "stream",
     "text": [
      "('ayush', True, 56.4, 6)\n"
     ]
    }
   ],
   "source": [
    "19.#Write a Python program to create a tuple with different data types?\n",
    "tup=('ayush',True,56.4,6)\n",
    "print(tup)"
   ]
  },
  {
   "cell_type": "code",
   "execution_count": 49,
   "id": "8a204105",
   "metadata": {},
   "outputs": [
    {
     "name": "stdout",
     "output_type": "stream",
     "text": [
      "(0, 1, 2, 3, 4, 5, 6, 7)\n"
     ]
    }
   ],
   "source": [
    "20.#Write a Python program to create a tuple with numbers?\n",
    "tup=(0,1,2,3,4,5,6,7)\n",
    "print(tup)"
   ]
  },
  {
   "cell_type": "code",
   "execution_count": 48,
   "id": "14a40117",
   "metadata": {},
   "outputs": [
    {
     "name": "stdout",
     "output_type": "stream",
     "text": [
      "Tuple converted to string: 12345\n"
     ]
    }
   ],
   "source": [
    "21.#Write a Python program to convert a tuple to a string?\n",
    "def tuple_to_string(t):\n",
    "    # Convert each element of the tuple to a string\n",
    "    string_tuple = [str(element) for element in t]\n",
    "    \n",
    "    # Join the elements together into a single string\n",
    "    result = ''.join(string_tuple)\n",
    "    \n",
    "    return result\n",
    "\n",
    "# Example usage\n",
    "my_tuple = (1, 2, 3, 4, 5)\n",
    "result_string = tuple_to_string(my_tuple)\n",
    "print(\"Tuple converted to string:\", result_string)\n"
   ]
  },
  {
   "cell_type": "code",
   "execution_count": 52,
   "id": "74a53858",
   "metadata": {},
   "outputs": [
    {
     "name": "stdout",
     "output_type": "stream",
     "text": [
      "True\n",
      "True\n",
      "False\n"
     ]
    }
   ],
   "source": [
    "22.#Write a Python program to check whether an element exists within a tuple?\n",
    "tup=(\"ayush\",6,5,4,3,2,1,2,34)\n",
    "print(\"ayush\" in tup)\n",
    "print(2 in tup)\n",
    "print(8 in tup)"
   ]
  },
  {
   "cell_type": "code",
   "execution_count": 53,
   "id": "575279b2",
   "metadata": {},
   "outputs": [
    {
     "name": "stdout",
     "output_type": "stream",
     "text": [
      "18\n"
     ]
    }
   ],
   "source": [
    "23.#Write a Python program to find the length of a tuple? \n",
    "tup=(\"raj\",5,6,4,3,2,12,3,4,4,5,6,6,7,7,8,8,8)\n",
    "print(len(tup))"
   ]
  },
  {
   "cell_type": "code",
   "execution_count": 55,
   "id": "42492cae",
   "metadata": {},
   "outputs": [
    {
     "name": "stdout",
     "output_type": "stream",
     "text": [
      "(47, 76, 4, 56, 6, 75, 6, 7, 5, 7)\n"
     ]
    }
   ],
   "source": [
    "24.#Write a Python program to convert a list to a tuple?\n",
    "l=[47,76,4,56,6,75,6,7,5,7,]\n",
    "tup=tuple(l)\n",
    "print(tup)"
   ]
  },
  {
   "cell_type": "code",
   "execution_count": 56,
   "id": "bae9f1bd",
   "metadata": {},
   "outputs": [
    {
     "name": "stdout",
     "output_type": "stream",
     "text": [
      "(8, 5, 'ttt', 8, 6, 'kd')\n",
      "('kd', 6, 8, 'ttt', 5)\n"
     ]
    }
   ],
   "source": [
    "25.#Write a Python program to reverse a tuple?\n",
    "tup=(8,5,\"ttt\",8,6,\"kd\")\n",
    "print(tup)\n",
    "print(tup[-1:0:-1])\n",
    "        "
   ]
  },
  {
   "cell_type": "code",
   "execution_count": 58,
   "id": "1f05e854",
   "metadata": {},
   "outputs": [
    {
     "name": "stdout",
     "output_type": "stream",
     "text": [
      "[(1, 2, 'yyyy')]\n"
     ]
    }
   ],
   "source": [
    "26.#Write a Python program to replace last value of tuples in a list? \n",
    "l1 = [(1, 2, 6)]\n",
    "print([replace[:-1] + (\"yyyy\",) for replace in l1] )"
   ]
  },
  {
   "cell_type": "code",
   "execution_count": 62,
   "id": "9ff6d91e",
   "metadata": {},
   "outputs": [
    {
     "name": "stdout",
     "output_type": "stream",
     "text": [
      "(5, 6, 7, 6, 5, 6, 5, 4, 4, 5, 6, 6)\n",
      "4\n"
     ]
    }
   ],
   "source": [
    "27.#Write a Python program to find the repeated items of a tuple?\n",
    "y = (5,6,7,6,5,6,5,4,4,5,6,6)\n",
    "print(y)\n",
    "count = y.count(5) #check 5 is how many times repeated in tuple\n",
    "print(count)"
   ]
  },
  {
   "cell_type": "code",
   "execution_count": null,
   "id": "c39d9cad",
   "metadata": {},
   "outputs": [],
   "source": [
    "28.#Write a Python program to remove an empty tuple(s) from a list of tuples?\n",
    "def remove(tuples):\n",
    "    for i in tuples:\n",
    "        if(i==()):\n",
    "            tuples.remove(i)\n",
    "    return tuples\n",
    "tuples = [(), ('hari','15','8'), (), ('syam', 'radha'),('krishna', '', '45'), ('',''),()]\n",
    "print(Remove(tuples))\n",
    "    "
   ]
  },
  {
   "cell_type": "code",
   "execution_count": null,
   "id": "20309dac",
   "metadata": {},
   "outputs": [],
   "source": [
    "29.# Write a Python program to unzip a list of tuples into individual lists?\n",
    "l = [(1,2), (3,4), (8,4)] # list of tuples \n",
    "print(list(zip(*l))) # Zip and individual lists"
   ]
  },
  {
   "cell_type": "code",
   "execution_count": 72,
   "id": "49a8d6f4",
   "metadata": {},
   "outputs": [
    {
     "name": "stdout",
     "output_type": "stream",
     "text": [
      "{'raj': 15, 'krish': 19, 'yash': 54, 'vraj': 88}\n"
     ]
    }
   ],
   "source": [
    "30.#Write a Python program to convert a list of tuples into a dictionary?\n",
    "#first method\n",
    "tuple_dic = [(\"raj\", 15), (\"krish\", 19), (\"yash\", 54),(\"vraj\", 88)]\n",
    "d1={}\n",
    "d2 = dict(tuple_dic)\n",
    "print(d2)"
   ]
  },
  {
   "cell_type": "code",
   "execution_count": 73,
   "id": "3d701e81",
   "metadata": {},
   "outputs": [
    {
     "name": "stdout",
     "output_type": "stream",
     "text": [
      "{'yy': 44, 'rr': 77}\n"
     ]
    }
   ],
   "source": [
    "31.#How will you create a dictionary using tuples in python?\n",
    "tup1=((\"yy\",44),(\"rr\",77)) #create tuple \n",
    "d1=dict(tup1) #dict function to convert tuple to dictionary\n",
    "print(d1) "
   ]
  },
  {
   "cell_type": "code",
   "execution_count": 74,
   "id": "a1828741",
   "metadata": {},
   "outputs": [
    {
     "name": "stdout",
     "output_type": "stream",
     "text": [
      "Sorted dictionary is :\n",
      "[(1, 'a'), (2, 'b'), (3, 'c'), (4, 'd')]\n"
     ]
    }
   ],
   "source": [
    "32.#Write a Python script to sort (ascending and descending) a dictionary by value?\n",
    "my_dict = {'c': 3,\n",
    "           'a': 1,\n",
    "           'd': 4,\n",
    "           'b': 2}\n",
    " \n",
    "sorted_dict = sorted([(value, key)\n",
    "for (key, value) in my_dict.items()])\n",
    "\n",
    "print(\"Sorted dictionary is :\")\n",
    "print(sorted_dict)"
   ]
  },
  {
   "cell_type": "code",
   "execution_count": 116,
   "id": "c5db78aa",
   "metadata": {},
   "outputs": [
    {
     "name": "stdout",
     "output_type": "stream",
     "text": [
      "Object `one` not found.\n",
      "{1: 10, 2: 20, 3: 30, 4: 40, 5: 50, 6: 60}\n"
     ]
    }
   ],
   "source": [
    "33.Write a Python script to concatenate following dictionaries to create a new one?\n",
    "dic1={1:10, 2:20}\n",
    "dic2={3:30, 4:40}\n",
    "dic3={5:50,6:60}\n",
    "dic4 = {}\n",
    "for d in (dic1, dic2, dic3):\n",
    "    dic4.update(d)\n",
    "print(dic4)"
   ]
  },
  {
   "cell_type": "code",
   "execution_count": 115,
   "id": "876244fd",
   "metadata": {},
   "outputs": [
    {
     "name": "stdout",
     "output_type": "stream",
     "text": [
      "Present,  value = 100\n"
     ]
    }
   ],
   "source": [
    "34.#Write a Python script to check if a given key already exists in a dictionary?\n",
    "dic = {'a': 100, 'b':200, 'c':300}\n",
    "key = 'a'\n",
    "if key in dic.keys():\n",
    "    print(\"Present, \", end =\" \")\n",
    "    print(\"value =\", dic[key])\n",
    "else:\n",
    "        print(\"Not present\")    "
   ]
  },
  {
   "cell_type": "code",
   "execution_count": 114,
   "id": "ab1a5559",
   "metadata": {},
   "outputs": [
    {
     "name": "stdout",
     "output_type": "stream",
     "text": [
      "desert safari\n",
      "year 2024\n",
      "rajasthan jaisalmer\n",
      "mobile 7745866666\n"
     ]
    }
   ],
   "source": [
    "35.#How Do You Traverse Through A Dictionary Object In Python?\n",
    "dictionary = { \n",
    "   'desert': 'safari', \n",
    "   'year': '2024', \n",
    "   'rajasthan': 'jaisalmer', \n",
    "   'mobile': '7745866666' \n",
    "}\n",
    "\n",
    "for keys, values in dictionary.items(): \n",
    "   print(keys ,values)"
   ]
  },
  {
   "cell_type": "code",
   "execution_count": 113,
   "id": "fd3d2960",
   "metadata": {},
   "outputs": [
    {
     "name": "stdout",
     "output_type": "stream",
     "text": [
      "Not Present\n"
     ]
    }
   ],
   "source": [
    "36.#How Do You Check The Presence Of A Key In A Dictionary?\n",
    "dic = {'a': 100, 'b':200, 'c':300}\n",
    " \n",
    "# check if \"b\" is none or not.\n",
    "if dic.get('d') == None:\n",
    "  print(\"Not Present\")\n",
    "else:\n",
    "  print(\"Present\")"
   ]
  },
  {
   "cell_type": "code",
   "execution_count": 112,
   "id": "7e87439f",
   "metadata": {},
   "outputs": [
    {
     "name": "stdout",
     "output_type": "stream",
     "text": [
      "{1: 1, 2: 2, 3: 3, 4: 4, 5: 5, 6: 6, 7: 7, 8: 8, 9: 9, 10: 10, 11: 11, 12: 12, 13: 13, 14: 14, 15: 15}\n"
     ]
    }
   ],
   "source": [
    "37.#Write a Python script to print a dictionary where the keys are number between 1 and 15?\n",
    "d=dict()\n",
    "for x in range(1,16):\n",
    "    d[x]=x\n",
    "print(d)  "
   ]
  },
  {
   "cell_type": "code",
   "execution_count": null,
   "id": "6b503b85",
   "metadata": {},
   "outputs": [],
   "source": [
    "38.#Write a Python program to check multiple keys exists in a dictionary\n",
    "sports = {\"geeksforgeeks\" : 1, \"practice\" : 2, \"contribute\" :3}\n",
    "print(sports.keys() >= {\"geeksforgeeks\", \"om\"})\n",
    "print(sports.keys()>={\"contribute\", \"practice\",\"geeksforgeeks\"})"
   ]
  },
  {
   "cell_type": "code",
   "execution_count": 111,
   "id": "f34aedc7",
   "metadata": {},
   "outputs": [
    {
     "name": "stdout",
     "output_type": "stream",
     "text": [
      "{'a': 200, 'b': 400, 'x': 500, 'y': 200}\n"
     ]
    }
   ],
   "source": [
    "39.#Write a Python script to merge two Python dictionaries\n",
    "d1 = {'a': 200, 'b': 400}\n",
    "d2 = {'x': 500, 'y': 200}\n",
    "d = d1.copy()\n",
    "d.update(d2)\n",
    "print(d)"
   ]
  },
  {
   "cell_type": "code",
   "execution_count": 110,
   "id": "7ebd1e2f",
   "metadata": {},
   "outputs": [
    {
     "name": "stdout",
     "output_type": "stream",
     "text": [
      "{'apple': 55, 'strawberry': 78, 'Banana': 110, 'watermelon': 60}\n"
     ]
    }
   ],
   "source": [
    "40.#Write a Python program to map two lists into a dictionary?\n",
    "fruits = ['apple', 'strawberry', 'Banana','watermelon']\n",
    "price = [55, 78, 110, 60]\n",
    "\n",
    "fruits_price = zip(fruits, price)\n",
    "\n",
    "fruits_dict = {}\n",
    "\n",
    "for key, value in fruits_price:\n",
    "    if key in fruits_dict:\n",
    "        pass \n",
    "    else:\n",
    "        fruits_dict[key] = value\n",
    "        \n",
    "print(fruits_dict)"
   ]
  },
  {
   "cell_type": "code",
   "execution_count": 109,
   "id": "c5df758c",
   "metadata": {},
   "outputs": [
    {
     "name": "stdout",
     "output_type": "stream",
     "text": [
      "{'a': 10, 'b': 205, 'c': 45, 'd': 25}\n"
     ]
    }
   ],
   "source": [
    " '''41. Write a Python program to combine two dictionary adding values for common keys\n",
    "d1 = {'a': 100, 'b': 200, 'c':300} o d2 = {'a': 300, 'b': 200,’d’:400}\n",
    "Sample output: Counter ({'a': 400, 'b': 400,’d’: 400, 'c': 300}). '''\n",
    "def combine_dicts(dict1, dict2):\n",
    "    dict3 = dict1.copy()\n",
    "    for i, j in dict2.items():\n",
    "        if i in dict3:\n",
    "            dict3[i] += j\n",
    "        else:\n",
    "            dict3[i] = j\n",
    "\n",
    "    return dict3\n",
    "dict1 = {'a': 10, 'b': 200, 'c': 30}\n",
    "dict2 = {'b': 5, 'c': 15, 'd': 25}\n",
    "combined = combine_dicts(dict1, dict2)\n",
    "print(combined)"
   ]
  },
  {
   "cell_type": "code",
   "execution_count": 108,
   "id": "bb79e475",
   "metadata": {},
   "outputs": [
    {
     "name": "stdout",
     "output_type": "stream",
     "text": [
      "{1, 2, 3, 4}\n"
     ]
    }
   ],
   "source": [
    "42.#Write a Python program to print all unique values in a dictionary?\n",
    "my_dict = {'a': 1, 'b': 2, 'c': 3, 'd': 2,'e':2,'f':4} \n",
    "unique_value = set() \n",
    "for value in my_dict.values():\n",
    "  unique_value.add(value)\n",
    "print(unique_value)"
   ]
  },
  {
   "cell_type": "code",
   "execution_count": null,
   "id": "618e3056",
   "metadata": {},
   "outputs": [],
   "source": [
    "43.#Why Do You Use the Zip () Method in Python?\n",
    "'''\n",
    " Ans :- Zip function is used in combined two or more iterable dictionary to one iterable\n",
    " dictionary.\n",
    "'''"
   ]
  },
  {
   "cell_type": "code",
   "execution_count": null,
   "id": "7b3e9384",
   "metadata": {},
   "outputs": [],
   "source": [
    "'''44.\n",
    "Write a Python program to create and display all combinations of letters,\n",
    "selecting each letter from a different key in a dictionary. \n",
    "'''"
   ]
  },
  {
   "cell_type": "code",
   "execution_count": 107,
   "id": "462b58ba",
   "metadata": {},
   "outputs": [
    {
     "name": "stdout",
     "output_type": "stream",
     "text": [
      "Dictionary with 3 highest values:\n",
      "Keys: Values\n"
     ]
    },
    {
     "ename": "TypeError",
     "evalue": "'list' object is not callable",
     "output_type": "error",
     "traceback": [
      "\u001b[1;31m---------------------------------------------------------------------------\u001b[0m",
      "\u001b[1;31mTypeError\u001b[0m                                 Traceback (most recent call last)",
      "Cell \u001b[1;32mIn[107], line 6\u001b[0m\n\u001b[0;32m      4\u001b[0m \u001b[38;5;28mprint\u001b[39m(\u001b[38;5;124m\"\u001b[39m\u001b[38;5;124mDictionary with 3 highest values:\u001b[39m\u001b[38;5;124m\"\u001b[39m)\n\u001b[0;32m      5\u001b[0m \u001b[38;5;28mprint\u001b[39m(\u001b[38;5;124m\"\u001b[39m\u001b[38;5;124mKeys: Values\u001b[39m\u001b[38;5;124m\"\u001b[39m)\n\u001b[1;32m----> 6\u001b[0m x\u001b[38;5;241m=\u001b[39m\u001b[38;5;28mlist\u001b[39m(my_dict\u001b[38;5;241m.\u001b[39mvalues())\n\u001b[0;32m      7\u001b[0m d\u001b[38;5;241m=\u001b[39m\u001b[38;5;28mdict\u001b[39m()\n\u001b[0;32m      8\u001b[0m \u001b[38;5;28mprint\u001b[39m(x)\n",
      "\u001b[1;31mTypeError\u001b[0m: 'list' object is not callable"
     ]
    }
   ],
   "source": [
    "45.#Write a Python program to find the highest 3 values in a dictionary?\n",
    "my_dict = {'A': 67, 'B': 23, 'C': 45,\n",
    "           'D': 56, 'E': 12, 'F': 69}\n",
    "print(\"Dictionary with 3 highest values:\")\n",
    "print(\"Keys: Values\")\n",
    "x=list(my_dict.values())\n",
    "d=dict()\n",
    "print(x)"
   ]
  },
  {
   "cell_type": "code",
   "execution_count": 106,
   "id": "4af84d6a",
   "metadata": {},
   "outputs": [
    {
     "name": "stdout",
     "output_type": "stream",
     "text": [
      "{'item1': 1150, 'item2': 300}\n"
     ]
    }
   ],
   "source": [
    "46.#Write a Python program to combine values in python list of dictionaries? \n",
    "sample_data = [{'item': 'item1', 'amount': 400}, {'item': 'item2', 'amount': 300},\n",
    "               {'item': 'item1', 'amount': 750}]\n",
    "\n",
    "combined_data = {}\n",
    "\n",
    "for i in sample_data:\n",
    "    item = i['item']\n",
    "    amount = i['amount']\n",
    "    if item in combined_data:\n",
    "        combined_data[item] += amount\n",
    "    else:\n",
    "        combined_data[item] = amount\n",
    "\n",
    "print(combined_data)"
   ]
  },
  {
   "cell_type": "code",
   "execution_count": 105,
   "id": "96e5b936",
   "metadata": {},
   "outputs": [
    {
     "name": "stdout",
     "output_type": "stream",
     "text": [
      "{'B': 1, 'h': 2, 'a': 2, 'n': 1, 'd': 1, 'e': 1, 'r': 1, 'i': 1, ' ': 1, 'y': 1, 'u': 1, 's': 1}\n"
     ]
    }
   ],
   "source": [
    "47.#Write a Python program to create a dictionary from a string?\n",
    "def letter_count_dict(string):\n",
    "    letter_count = {}\n",
    "    for letter in string:\n",
    "        if letter in letter_count:\n",
    "            letter_count[letter] += 1\n",
    "        else:\n",
    "            letter_count[letter] = 1\n",
    "    return letter_count\n",
    "\n",
    "sample_string = 'Bhanderi ayush'\n",
    "result = letter_count_dict(sample_string)\n",
    "print(result)"
   ]
  },
  {
   "cell_type": "code",
   "execution_count": 103,
   "id": "f7770480",
   "metadata": {},
   "outputs": [
    {
     "name": "stdout",
     "output_type": "stream",
     "text": [
      "The factorial of 5 is 120\n"
     ]
    }
   ],
   "source": [
    "48.#Write a Python function to calculate the factorial of a number (anonnegative integer)?\n",
    "def factorial(n):\n",
    "    if n < 0:\n",
    "        print(\"Factorial is not defined for negative numbers.\")\n",
    "    if n == 0 or n == 1:\n",
    "        return 1\n",
    "    else:\n",
    "        result = 1\n",
    "        for i in range(2, n + 1):\n",
    "            result *= i\n",
    "        return result\n",
    "num = 5\n",
    "fact = factorial(num)\n",
    "print(f\"The factorial of {num} is {fact}\")"
   ]
  },
  {
   "cell_type": "code",
   "execution_count": 102,
   "id": "7797fc48",
   "metadata": {},
   "outputs": [
    {
     "name": "stdout",
     "output_type": "stream",
     "text": [
      "15 is in the range between 10 and 20.\n"
     ]
    }
   ],
   "source": [
    "49.#Write a Python function to check whether a number is in a given range?\n",
    "def range_bet(number, lower, upper):\n",
    "    return lower <= number <= upper\n",
    "num = 15\n",
    "lower = 10\n",
    "upper = 20\n",
    "if range_bet(num, lower, upper):\n",
    "    print(f\"{num} is in the range between {lower} and {upper}.\")\n",
    "else:\n",
    "    print(f\"{num} is not in the range between {lower} and {upper}.\")"
   ]
  },
  {
   "cell_type": "code",
   "execution_count": 101,
   "id": "3f05dc5b",
   "metadata": {},
   "outputs": [
    {
     "name": "stdout",
     "output_type": "stream",
     "text": [
      "Enter a number: 23\n",
      "23 is not a perfect number.\n"
     ]
    }
   ],
   "source": [
    "50.#Write a Python function to check whether a number is perfect or not? \n",
    "def perfect_number(number):\n",
    "    if number <= 0:\n",
    "        return False\n",
    "\n",
    "    divisors_sum = 0\n",
    "    for i in range(1, number):\n",
    "        if number % i == 0:\n",
    "            divisors_sum += i\n",
    "\n",
    "    return divisors_sum == number\n",
    "\n",
    "num = int(input(\"Enter a number: \"))\n",
    "if perfect_number(num):\n",
    "    print(num, \"is a perfect number.\")\n",
    "else:\n",
    "    print(num, \"is not a perfect number.\")"
   ]
  },
  {
   "cell_type": "code",
   "execution_count": 100,
   "id": "23282349",
   "metadata": {},
   "outputs": [
    {
     "name": "stdout",
     "output_type": "stream",
     "text": [
      "Enter string:-ayush\n",
      "The string is  not plalindrome\n"
     ]
    }
   ],
   "source": [
    "51.#Write a Python function that checks whether a passed string is palindrome or not?\n",
    "\n",
    "def pali(string):\n",
    "    if(string==string[::-1]):\n",
    "        return \"The string is palindrome.\"\n",
    "    else:\n",
    "        return \"The string is  not plalindrome\"\n",
    "string=input(\"Enter string:-\")\n",
    "print(pali(string))"
   ]
  },
  {
   "cell_type": "code",
   "execution_count": null,
   "id": "56b47d88",
   "metadata": {},
   "outputs": [],
   "source": [
    "52.#How Many Basic Types Of Functions Are Available In Python?\n",
    "'''\n",
    " ans: There are two types of function :-\n",
    "user-defined functions > these types of function are defined by the user to perform\n",
    "any specific task . ex. func(),etc.\n",
    "Built-in Functions > These type of function are predefined function.\n",
    "ex. print() , len(),etc.\n",
    "'''"
   ]
  },
  {
   "cell_type": "code",
   "execution_count": 99,
   "id": "bb9b6460",
   "metadata": {},
   "outputs": [
    {
     "name": "stdout",
     "output_type": "stream",
     "text": [
      "The given input tuple:  (47, 4, 22, 'ahdh', 'e4y4y', 89)\n",
      "The generated random tuple item =  e4y4y\n"
     ]
    }
   ],
   "source": [
    "53.#How can you pick a random item from a list or tuple?\n",
    "import random\n",
    "Tup = (47,4,22,\"ahdh\",\"e4y4y\",89)\n",
    "print(\"The given input tuple: \", Tup)\n",
    "randomItem = random.choice(Tup)\n",
    "print(\"The generated random tuple item = \", randomItem)"
   ]
  },
  {
   "cell_type": "code",
   "execution_count": 96,
   "id": "643d4e50",
   "metadata": {},
   "outputs": [
    {
     "name": "stdout",
     "output_type": "stream",
     "text": [
      "Random Numbers from 1 to 20 are:\n",
      "21\n"
     ]
    }
   ],
   "source": [
    "54.#How can you pick a random item from a range?\n",
    "import random\n",
    "print('Random Numbers from 1 to 20 are:')\n",
    "x=random.randrange(1,50)\n",
    "print(x)"
   ]
  },
  {
   "cell_type": "code",
   "execution_count": 95,
   "id": "e146cfd5",
   "metadata": {},
   "outputs": [
    {
     "name": "stdout",
     "output_type": "stream",
     "text": [
      "0\n"
     ]
    }
   ],
   "source": [
    "55.#How can you get a random number in python?\n",
    "import random\n",
    "print(random.randint(0,9))"
   ]
  },
  {
   "cell_type": "code",
   "execution_count": 94,
   "id": "cc22982f",
   "metadata": {},
   "outputs": [
    {
     "name": "stdout",
     "output_type": "stream",
     "text": [
      "79\n"
     ]
    }
   ],
   "source": [
    "56.#How will you set the starting value in generating random numbers? \n",
    "import random\n",
    "random_number = random.randint(1, 100)\n",
    "print(random_number)"
   ]
  },
  {
   "cell_type": "code",
   "execution_count": 93,
   "id": "7685db15",
   "metadata": {},
   "outputs": [
    {
     "name": "stdout",
     "output_type": "stream",
     "text": [
      "Reshuffled list :  [99, 65, 77, 45, 85]\n",
      "Reshuffled list :  [77, 99, 65, 85, 45]\n"
     ]
    }
   ],
   "source": [
    "57.#How will you randomizes the items of a list in place?\n",
    "import random\n",
    "\n",
    "l= [77,85,45, 99,65];\n",
    "random.shuffle(l)\n",
    "print (\"Reshuffled list : \",  l)\n",
    "\n",
    "random.shuffle(l)\n",
    "print (\"Reshuffled list : \",  l)"
   ]
  },
  {
   "cell_type": "code",
   "execution_count": null,
   "id": "6b8ad69d",
   "metadata": {},
   "outputs": [],
   "source": [
    "58.#Write a Python program to read a random line from a file?\n",
    "import random\n",
    "def random_line(fname):\n",
    "    lines = open(fname).read().splitlines()\n",
    "    return random.choice(lines)\n",
    "print(random_line('test.txt'))\n"
   ]
  },
  {
   "cell_type": "code",
   "execution_count": 89,
   "id": "8268ffbf",
   "metadata": {},
   "outputs": [
    {
     "name": "stdout",
     "output_type": "stream",
     "text": [
      "Enter degree:- 44\n",
      "0.7675555555555557\n"
     ]
    }
   ],
   "source": [
    "59.#Write a Python program to convert degree to radian\n",
    "# formula:- radians = degrees * (pi / 180)\n",
    "# degree > radian\n",
    "d = int(input(\"Enter degree:- \"))\n",
    "r = d*(3.14/180)\n",
    "print(r)"
   ]
  },
  {
   "cell_type": "code",
   "execution_count": 87,
   "id": "aead6e4e",
   "metadata": {},
   "outputs": [
    {
     "name": "stdout",
     "output_type": "stream",
     "text": [
      "Enter length 1 :-34\n",
      "Enter length 2 :-54\n",
      "Enter Heigth :-55\n",
      "2420.0\n"
     ]
    }
   ],
   "source": [
    "60.#Write a Python program to calculate the area of a trapezoid\n",
    "# formula :- Area = (1/2) * (a + b) * h\n",
    "x=int(input(\"Enter length 1 :-\"))\n",
    "y=int(input(\"Enter length 2 :-\"))\n",
    "z=int(input(\"Enter Heigth :-\"))\n",
    "area=0.5*(x+y)*z\n",
    "print(area)"
   ]
  },
  {
   "cell_type": "code",
   "execution_count": 86,
   "id": "fd4f8ec2",
   "metadata": {},
   "outputs": [
    {
     "name": "stdout",
     "output_type": "stream",
     "text": [
      "Enter value of base :- \n"
     ]
    },
    {
     "ename": "ValueError",
     "evalue": "invalid literal for int() with base 10: ''",
     "output_type": "error",
     "traceback": [
      "\u001b[1;31m---------------------------------------------------------------------------\u001b[0m",
      "\u001b[1;31mValueError\u001b[0m                                Traceback (most recent call last)",
      "Cell \u001b[1;32mIn[86], line 3\u001b[0m\n\u001b[0;32m      1\u001b[0m \u001b[38;5;241m61.\u001b[39m\u001b[38;5;66;03m#Write a Python program to calculate the area of a parallelogram\u001b[39;00m\n\u001b[0;32m      2\u001b[0m \u001b[38;5;66;03m# formula:- Area = base * height\u001b[39;00m\n\u001b[1;32m----> 3\u001b[0m base\u001b[38;5;241m=\u001b[39m \u001b[38;5;28mint\u001b[39m(\u001b[38;5;28minput\u001b[39m(\u001b[38;5;124m\"\u001b[39m\u001b[38;5;124mEnter value of base :- \u001b[39m\u001b[38;5;124m\"\u001b[39m))\n\u001b[0;32m      4\u001b[0m height\u001b[38;5;241m=\u001b[39m \u001b[38;5;28mint\u001b[39m(\u001b[38;5;28minput\u001b[39m(\u001b[38;5;124m\"\u001b[39m\u001b[38;5;124mEnter value of hiegth :-\u001b[39m\u001b[38;5;124m\"\u001b[39m))\n\u001b[0;32m      5\u001b[0m area\u001b[38;5;241m=\u001b[39m base\u001b[38;5;241m*\u001b[39mheight\n",
      "\u001b[1;31mValueError\u001b[0m: invalid literal for int() with base 10: ''"
     ]
    }
   ],
   "source": [
    "61.#Write a Python program to calculate the area of a parallelogram\n",
    "# formula:- Area = base * height\n",
    "base= int(input(\"Enter value of base :- \"))\n",
    "height= int(input(\"Enter value of hiegth :-\"))\n",
    "area= base*height\n",
    "print(area)"
   ]
  },
  {
   "cell_type": "code",
   "execution_count": 84,
   "id": "b9e485a7",
   "metadata": {},
   "outputs": [
    {
     "name": "stdout",
     "output_type": "stream",
     "text": [
      "\n",
      "                    cylinder\n",
      "        1. surface\n",
      "        2. volume\n",
      "        3. area\n",
      "\n",
      "Enter any choice to find :-1\n",
      "Enter radius :-area\n"
     ]
    },
    {
     "ename": "ValueError",
     "evalue": "invalid literal for int() with base 10: 'area'",
     "output_type": "error",
     "traceback": [
      "\u001b[1;31m---------------------------------------------------------------------------\u001b[0m",
      "\u001b[1;31mValueError\u001b[0m                                Traceback (most recent call last)",
      "Cell \u001b[1;32mIn[84], line 13\u001b[0m\n\u001b[0;32m     11\u001b[0m user\u001b[38;5;241m=\u001b[39m\u001b[38;5;28mint\u001b[39m(\u001b[38;5;28minput\u001b[39m(\u001b[38;5;124m\"\u001b[39m\u001b[38;5;124mEnter any choice to find :-\u001b[39m\u001b[38;5;124m\"\u001b[39m))\n\u001b[0;32m     12\u001b[0m \u001b[38;5;28;01mif\u001b[39;00m user\u001b[38;5;241m==\u001b[39m\u001b[38;5;241m1\u001b[39m:\n\u001b[1;32m---> 13\u001b[0m     radius\u001b[38;5;241m=\u001b[39m\u001b[38;5;28mint\u001b[39m(\u001b[38;5;28minput\u001b[39m(\u001b[38;5;124m\"\u001b[39m\u001b[38;5;124mEnter radius :-\u001b[39m\u001b[38;5;124m\"\u001b[39m))\n\u001b[0;32m     14\u001b[0m     hieght\u001b[38;5;241m=\u001b[39m\u001b[38;5;28mint\u001b[39m(\u001b[38;5;28minput\u001b[39m(\u001b[38;5;124m\"\u001b[39m\u001b[38;5;124mEnter hieght :- \u001b[39m\u001b[38;5;124m\"\u001b[39m))\n\u001b[0;32m     15\u001b[0m     surface\u001b[38;5;241m=\u001b[39m\u001b[38;5;241m2\u001b[39m\u001b[38;5;241m*\u001b[39m\u001b[38;5;241m3.14\u001b[39m\u001b[38;5;241m*\u001b[39mradius\u001b[38;5;241m*\u001b[39m\u001b[38;5;241m*\u001b[39m\u001b[38;5;241m2\u001b[39m\u001b[38;5;241m+\u001b[39m\u001b[38;5;241m2\u001b[39m\u001b[38;5;241m*\u001b[39m\u001b[38;5;241m3.14\u001b[39m\u001b[38;5;241m*\u001b[39mradius\u001b[38;5;241m*\u001b[39mhieght\n",
      "\u001b[1;31mValueError\u001b[0m: invalid literal for int() with base 10: 'area'"
     ]
    }
   ],
   "source": [
    "62.#Write a Python program to calculate surface volume and area of a cylinder \n",
    "# surface :- SA = 2πr**2 + 2πrh   \n",
    "# volume :- V = πr**2h\n",
    "# area :-  2 π r h\n",
    "print('''\n",
    "                    cylinder\n",
    "        1. surface\n",
    "        2. volume\n",
    "        3. area\n",
    "''')\n",
    "user=int(input(\"Enter any choice to find :-\"))\n",
    "if user==1:\n",
    "    radius=int(input(\"Enter radius :-\"))\n",
    "    hieght=int(input(\"Enter hieght :- \"))\n",
    "    surface=2*3.14*radius**2+2*3.14*radius*hieght\n",
    "    print(\"surface of cylinder is :- \",surface)\n",
    "elif user==2:\n",
    "    radius=int(input(\"Enter radius :-\"))\n",
    "    hieght=int(input(\"Enter hieght :- \"))\n",
    "    volume=3.14*radius**2*hieght\n",
    "    print(\"volume of cylinder is :- \",volume)\n",
    "elif user==3:\n",
    "    radius=int(input(\"Enter radius :-\"))\n",
    "    hieght=int(input(\"Enter hieght :- \"))\n",
    "    area=2*3.14*radius*hieght\n",
    "    print(\" Area of cylinder is :- \",area)"
   ]
  },
  {
   "cell_type": "code",
   "execution_count": 85,
   "id": "6c6b85af",
   "metadata": {},
   "outputs": [
    {
     "name": "stdout",
     "output_type": "stream",
     "text": [
      "Enter a value: \n"
     ]
    },
    {
     "ename": "ValueError",
     "evalue": "invalid literal for int() with base 10: ''",
     "output_type": "error",
     "traceback": [
      "\u001b[1;31m---------------------------------------------------------------------------\u001b[0m",
      "\u001b[1;31mValueError\u001b[0m                                Traceback (most recent call last)",
      "Cell \u001b[1;32mIn[85], line 2\u001b[0m\n\u001b[0;32m      1\u001b[0m \u001b[38;5;241m63.\u001b[39m\u001b[38;5;66;03m#Write a Python program to returns sum of all divisors of a number?\u001b[39;00m\n\u001b[1;32m----> 2\u001b[0m n\u001b[38;5;241m=\u001b[39m\u001b[38;5;28mint\u001b[39m(\u001b[38;5;28minput\u001b[39m(\u001b[38;5;124m'\u001b[39m\u001b[38;5;124mEnter a value: \u001b[39m\u001b[38;5;124m'\u001b[39m))\n\u001b[0;32m      3\u001b[0m yy\u001b[38;5;241m=\u001b[39m\u001b[38;5;241m0\u001b[39m\n\u001b[0;32m      4\u001b[0m \u001b[38;5;28;01mfor\u001b[39;00m x \u001b[38;5;129;01min\u001b[39;00m \u001b[38;5;28mrange\u001b[39m(\u001b[38;5;241m1\u001b[39m, n):\n",
      "\u001b[1;31mValueError\u001b[0m: invalid literal for int() with base 10: ''"
     ]
    }
   ],
   "source": [
    "63.#Write a Python program to returns sum of all divisors of a number?\n",
    "n=int(input('Enter a value: '))\n",
    "yy=0\n",
    "for x in range(1, n):\n",
    "  if n % x ==0:\n",
    "    yy += x\n",
    "else:\n",
    "  print(yy)"
   ]
  },
  {
   "cell_type": "code",
   "execution_count": 78,
   "id": "7c971718",
   "metadata": {},
   "outputs": [
    {
     "name": "stdout",
     "output_type": "stream",
     "text": [
      "Maximum number: 4.669\n",
      "Minimum number:  0.577\n"
     ]
    }
   ],
   "source": [
    "64.#Write a Python program to find the maximum and minimum numbers from the specified decimal numbers.\n",
    "decimal_num= [3.14, 1.618, 2.718, 0.577, 4.669]\n",
    "\n",
    "maximum_num = max(decimal_num)\n",
    "minimum_num = min(decimal_num)\n",
    "\n",
    "print(\"Maximum number:\",maximum_num)\n",
    "print(\"Minimum number: \",minimum_num)"
   ]
  },
  {
   "cell_type": "code",
   "execution_count": null,
   "id": "7878e980",
   "metadata": {},
   "outputs": [],
   "source": []
  },
  {
   "cell_type": "code",
   "execution_count": null,
   "id": "e4621b50",
   "metadata": {},
   "outputs": [],
   "source": []
  },
  {
   "cell_type": "code",
   "execution_count": null,
   "id": "213cd1c2",
   "metadata": {},
   "outputs": [],
   "source": []
  },
  {
   "cell_type": "code",
   "execution_count": null,
   "id": "5ea1a0bd",
   "metadata": {},
   "outputs": [],
   "source": []
  },
  {
   "cell_type": "code",
   "execution_count": null,
   "id": "0ab7d28b",
   "metadata": {},
   "outputs": [],
   "source": []
  },
  {
   "cell_type": "code",
   "execution_count": null,
   "id": "5de4eca7",
   "metadata": {},
   "outputs": [],
   "source": []
  },
  {
   "cell_type": "code",
   "execution_count": null,
   "id": "85042a3e",
   "metadata": {},
   "outputs": [],
   "source": []
  },
  {
   "cell_type": "code",
   "execution_count": null,
   "id": "d523d63c",
   "metadata": {},
   "outputs": [],
   "source": []
  },
  {
   "cell_type": "code",
   "execution_count": null,
   "id": "5d6216f3",
   "metadata": {},
   "outputs": [],
   "source": []
  },
  {
   "cell_type": "code",
   "execution_count": null,
   "id": "044cfdd6",
   "metadata": {},
   "outputs": [],
   "source": []
  },
  {
   "cell_type": "code",
   "execution_count": null,
   "id": "a3398e33",
   "metadata": {},
   "outputs": [],
   "source": []
  },
  {
   "cell_type": "code",
   "execution_count": null,
   "id": "64450afd",
   "metadata": {},
   "outputs": [],
   "source": []
  },
  {
   "cell_type": "code",
   "execution_count": null,
   "id": "b301d45f",
   "metadata": {},
   "outputs": [],
   "source": []
  },
  {
   "cell_type": "code",
   "execution_count": null,
   "id": "ed587ac6",
   "metadata": {},
   "outputs": [],
   "source": []
  },
  {
   "cell_type": "code",
   "execution_count": null,
   "id": "b69f496c",
   "metadata": {},
   "outputs": [],
   "source": []
  }
 ],
 "metadata": {
  "kernelspec": {
   "display_name": "Python 3 (ipykernel)",
   "language": "python",
   "name": "python3"
  },
  "language_info": {
   "codemirror_mode": {
    "name": "ipython",
    "version": 3
   },
   "file_extension": ".py",
   "mimetype": "text/x-python",
   "name": "python",
   "nbconvert_exporter": "python",
   "pygments_lexer": "ipython3",
   "version": "3.11.5"
  }
 },
 "nbformat": 4,
 "nbformat_minor": 5
}
