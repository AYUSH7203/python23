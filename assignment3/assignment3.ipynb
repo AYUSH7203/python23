{
 "cells": [
  {
   "cell_type": "code",
   "execution_count": null,
   "id": "9f485356",
   "metadata": {},
   "outputs": [],
   "source": [
    "#1.What is File function in python? What is keywords to create and write file. \n",
    "'''\n",
    "Ans:- python file object provide methods  and attributes to access and manipulate files.using file object,we can read\n",
    "           and write any files.\n",
    "'''\n",
    "#Keyword to create file\n",
    "'''x : to create a file\n",
    "  w : to write into file & create a file  write will override the previous content of the file \n",
    "    it will replace new content with old content'''\n",
    "#File create\n",
    "'''create=open(\"basic.txt\",\"x\")\n",
    "create.close()'''\n",
    "#write in basic.txt\n",
    "f=open(\"basic.txt\",\"w\")\n",
    "f.write(\"Hello good morning\")\n",
    "f.close()"
   ]
  },
  {
   "cell_type": "code",
   "execution_count": null,
   "id": "9597e006",
   "metadata": {},
   "outputs": [],
   "source": [
    "#2.Write a Python program to read an entire text file. \n",
    "\n",
    "\n",
    "r=open(\"basic.txt\",'r')\n",
    "print(r.read()) #read file\n",
    "r.close()"
   ]
  },
  {
   "cell_type": "code",
   "execution_count": null,
   "id": "84aff8a6",
   "metadata": {},
   "outputs": [],
   "source": [
    "#3.Write a Python program to append text to a file and display the text.\n",
    "#a:- append text without removing old text\n",
    "a=open(\"basic.txt\",\"a\")\n",
    "a.write(\"\\nThis is a append text\")\n",
    "a.close()"
   ]
  },
  {
   "cell_type": "code",
   "execution_count": null,
   "id": "88ad671e",
   "metadata": {},
   "outputs": [],
   "source": [
    "#4.Write a Python program to read first n lines of a file.\n",
    "\n",
    "r=open(\"basic.txt\",\"r\")\n",
    "print(r.readline()) #First line print \n",
    "r.close#5.Write a Python program to read last n lines of a file. \n",
    "a_file = open(\"basic.txt\", \"r\")\n",
    "lines = a_file.readlines()\n",
    "last_lines = lines[-5:]\n",
    "print(last_lines)\n",
    "a_file.close()"
   ]
  },
  {
   "cell_type": "code",
   "execution_count": null,
   "id": "b3473a67",
   "metadata": {},
   "outputs": [],
   "source": [
    "#5.Write a Python program to read last n lines of a file. \n",
    "a = open(\"basic.txt\", \"r\")\n",
    "lines = a.readlines()\n",
    "l = lines[-5:]\n",
    "print(l)\n",
    "a.close()"
   ]
  },
  {
   "cell_type": "code",
   "execution_count": null,
   "id": "be90ff18",
   "metadata": {},
   "outputs": [],
   "source": [
    "#6.Write a Python program to read a file line by line and store it into a list\n",
    "#readlines:- store into list\n",
    "r=open(\"basic.txt\",\"r\")\n",
    "print(r.readlines()) \n",
    "r.close()"
   ]
  },
  {
   "cell_type": "code",
   "execution_count": null,
   "id": "89522b97",
   "metadata": {},
   "outputs": [],
   "source": [
    "#7.Write a Python program to read a file line by line store it into a variable.\n",
    "\n",
    "r1=open(\"basic.txt\",\"r\")\n",
    "#stored in variable\n",
    "a1=r1.readlines()\n",
    "print(a1)\n",
    "r1.close()"
   ]
  },
  {
   "cell_type": "code",
   "execution_count": null,
   "id": "5c5ec28b",
   "metadata": {},
   "outputs": [],
   "source": [
    "#8.Write a python program to find the longest words. \n",
    "sen = input(\"Enter sentence: \")\n",
    "long = max(sen.split(), key=len)\n",
    "print(\"Longest word is: \", long)\n",
    "print(\"length is: \", len(long))"
   ]
  },
  {
   "cell_type": "code",
   "execution_count": null,
   "id": "cdf49ec5",
   "metadata": {},
   "outputs": [],
   "source": [
    "#9.Write a Python program to count the number of lines in a text file. \n",
    "def count_lines(filename):\n",
    "    with open(filename, 'r') as file:\n",
    "        lines = file.readlines()\n",
    "    return len(lines)\n",
    " \n",
    "filename = 'basic.txt'  \n",
    "print(f'The file {filename} has {count_lines(filename)} lines.')"
   ]
  },
  {
   "cell_type": "code",
   "execution_count": null,
   "id": "fe865120",
   "metadata": {},
   "outputs": [],
   "source": [
    "#10.Write a Python program to count the frequency of words in a file.\n",
    "# Initialize variables\n",
    "word = \"good\"\n",
    "count = 0\n",
    "\n",
    "# Open the file \"basic.txt\" in read mode ('r')\n",
    "with open(\"basic.txt\", 'r') as f: \n",
    "    for line in f: \n",
    "        # Split the line into a list of words\n",
    "        words = line.split() \n",
    "        for i in words: \n",
    "            if(i==word): \n",
    "        # Increment the count if a match is found\n",
    "                count=count+1\n",
    "print(\"Occurrences of the word\", word, \":\", count)"
   ]
  },
  {
   "cell_type": "code",
   "execution_count": null,
   "id": "d5f27e8f",
   "metadata": {},
   "outputs": [],
   "source": [
    "#11.Write a Python program to write a list to a file.\n",
    "i = ['Table ', 'Chair ', 'Mirror ', 'Curtain ', 'Almirah ']\n",
    "f1 = open('items.txt','w')\n",
    "f1.writelines(i)\n",
    "f1.close()"
   ]
  },
  {
   "cell_type": "code",
   "execution_count": null,
   "id": "05f36aee",
   "metadata": {},
   "outputs": [],
   "source": [
    "# 12. Write a Python program to copy the contents of a file to another file.\n",
    "with open(\"items.txt\") as f:\n",
    "    with open(\"basic.txt\", \"w\") as f1:\n",
    "        for line in f:\n",
    "            f1.write(line)"
   ]
  },
  {
   "cell_type": "code",
   "execution_count": null,
   "id": "7c8e4645",
   "metadata": {},
   "outputs": [],
   "source": [
    "# 13 Explain Exception handling? What is an Error in Python? \n",
    "'''\n",
    "Exception handling is a programming concept that allows developers to handle unexpected or exceptional\n",
    "situations that can occur during the execution of a program.\n",
    "Exceptions are runtime errors and can be handled using try-except blocks.\n",
    "\n",
    "'''"
   ]
  },
  {
   "cell_type": "code",
   "execution_count": null,
   "id": "d30ebb77",
   "metadata": {},
   "outputs": [],
   "source": [
    "# 14. How many except statements can a try-except block have? Name Some built-in exception classes: \n",
    "'''\n",
    "A try-except block in Python can have one or more except statements to handle different types of exceptions.\n",
    "You can catch and handle multiple exceptions by specifying multiple except blocks\n",
    "'''"
   ]
  },
  {
   "cell_type": "code",
   "execution_count": null,
   "id": "59b76df2",
   "metadata": {},
   "outputs": [],
   "source": [
    "# 15. When will the else part of try-except-else be executed? \n",
    "'''\n",
    "In a try-except-else block in Python,the else part is executed when no exceptions are raised in the try block.\n",
    "'''"
   ]
  },
  {
   "cell_type": "code",
   "execution_count": null,
   "id": "7e8fb63b",
   "metadata": {},
   "outputs": [],
   "source": [
    "# 16. Can one block of except statements handle multiple exception?\n",
    "'''\n",
    " Yes, you can use a single except block to handle multiple exceptions in Python. To do this, you can specify\n",
    " a tuple of exception types inside the except block.\n",
    " ex:- except (execetipn 1....,exception 2.....)\n",
    "'''"
   ]
  },
  {
   "cell_type": "code",
   "execution_count": null,
   "id": "48468ecc",
   "metadata": {},
   "outputs": [],
   "source": [
    "# 18.What happens when „1‟== 1 is executed? \n",
    "b='1'==1\n",
    "print(b)\n",
    "'''\n",
    "Ans:- Display False \n",
    "'''"
   ]
  },
  {
   "cell_type": "code",
   "execution_count": null,
   "id": "74fc7375",
   "metadata": {},
   "outputs": [],
   "source": [
    "#19.How Do You Handle Exceptions With Try/Except/Finally In Python? \n",
    "Explain with coding snippets. \n",
    "try:\n",
    "    numerator = 10\n",
    "    denominator = 0\n",
    "\n",
    "    r = numerator/denominator\n",
    "\n",
    "    print(r)\n",
    "except:\n",
    "    print(\"Error: Denominator cannot be 0.\")"
   ]
  },
  {
   "cell_type": "code",
   "execution_count": null,
   "id": "7b19bb1f",
   "metadata": {},
   "outputs": [],
   "source": [
    "''' 20.Write python program that user to enter only odd numbers, else will\n",
    "raise an exception. '''\n",
    "while True:\n",
    "    try:\n",
    "        number = int(input(\"Enter an odd number: \"))\n",
    "        if number % 2 == 0:\n",
    "            raise ValueError(\"Even number entered. Please enter an odd number.\")\n",
    "        else:\n",
    "            print(\"You entered an odd number:\", number)\n",
    "            break  \n",
    "    except ValueError as e:\n",
    "        print(e)"
   ]
  },
  {
   "cell_type": "code",
   "execution_count": null,
   "id": "dfd6267e",
   "metadata": {},
   "outputs": [],
   "source": [
    "'''21.What are oops concepts? Is multiple inheritance supported in java\n",
    "Ans:-\n",
    "         Object-Oriented Programming (OOP) is a programming paradigm\n",
    "         that is based on the concept of \"objects.\" Objects represent real-world entities\n",
    "         and encapsulate both data (attributes or properties) and the methods (functions)\n",
    "         that operate on that data.\n",
    "\n",
    "\n",
    "        Java supports single inheritance, meaning a class can inherit from only one superclass.\n",
    "        Java supports multiple interfaces.\n",
    "'''"
   ]
  },
  {
   "cell_type": "code",
   "execution_count": null,
   "id": "663c10de",
   "metadata": {},
   "outputs": [],
   "source": [
    "#22.How to Define a Class in Python? What Is Self? Give An Example Of \n",
    "A Python Class.\n",
    "'''\n",
    "Ans:-\n",
    "         define a class using the class keyword. A class is a blueprint for creating\n",
    "         objects (instances) that have attributes and methods. The self keyword is\n",
    "         used as the first parameter of class methods to refer to the instance of the class.\n",
    "         It is similar to this in some other programming languages.\n",
    "\n",
    "         \n",
    "'''\n",
    "class ClassName:\n",
    "    \n",
    "    def __init__(self, parameter1, parameter2):\n",
    "        self.instance_attribute1 = parameter1\n",
    "        self.instance_attribute2 = parameter2\n",
    "    \n",
    "    def instance_method(self):\n",
    "        print(\"Instance method called with attribute values:\", self.instance_attribute1, self.instance_attribute2)"
   ]
  },
  {
   "cell_type": "code",
   "execution_count": null,
   "id": "117dd511",
   "metadata": {},
   "outputs": [],
   "source": [
    "'''\n",
    "23.Write a Python class named Rectangle constructed by a length and\n",
    "width and a method which will compute the area of a rectangle\n",
    "\n",
    "'''\n",
    "class Rectangle:\n",
    "    def __init__(self, length, width):\n",
    "        self.length = length\n",
    "        self.width = width\n",
    "\n",
    "    def compute_area(self):\n",
    "        return self.length * self.width\n",
    "\n",
    "rectangle = Rectangle(5, 3)\n",
    "\n",
    "area = rectangle.compute_area()\n",
    "print(\"Area of the rectangle:\", area)"
   ]
  },
  {
   "cell_type": "code",
   "execution_count": null,
   "id": "1022a8cf",
   "metadata": {},
   "outputs": [],
   "source": [
    "'''\n",
    "24.Write a Python class named Circle constructed by a radius and two\n",
    "methods which will compute the area and the perimeter of a circle \n",
    "'''\n",
    "\n",
    "class Circle:\n",
    "    def __init__(self, radius):\n",
    "        self.radius = radius\n",
    "\n",
    "    def area(self):\n",
    "        return 3.14159265358979323846 * (self.radius ** 2)\n",
    "\n",
    "    def perimeter(self):\n",
    "        return 2 * 3.14159265358979323846 * self.radius\n",
    "    \n",
    "radius = 5.0  \n",
    "my_circle = Circle(radius)\n",
    "\n",
    "print(\"Radius:\", my_circle.radius)\n",
    "print(\"Area:\", my_circle.area())\n",
    "print(\"Perimeter:\", my_circle.perimeter())\n"
   ]
  },
  {
   "cell_type": "code",
   "execution_count": null,
   "id": "97d62882",
   "metadata": {},
   "outputs": [],
   "source": [
    "'''\n",
    "25.Explain Inheritance in Python with an example? What is init? Or What\n",
    "Is A Constructor In Python?\n",
    "\n",
    "Inheritance is a fundamental concept in object-oriented programming that allows\n",
    "you to create a new class that inherits attributes and methods from an existing class.\n",
    "The new class is often referred to as a \"subclass\" or \"child class,\" and the existing class\n",
    "is called the \"superclass\" or \"parent class.\" Inheritance allows you to reuse and extend the\n",
    "functionality of an existing class,promoting code reusability and maintaining a hierarchical\n",
    "relationship between classes.\n",
    "\n",
    "the __init__ method is a special method known as a constructor. It's used to initialize the\n",
    "attributes or properties of an object when an instance of a class is created.\n",
    "The constructor is automatically called when you create an object of that class.\n",
    "\n",
    "'''\n",
    "class Animal:\n",
    "    def __init__(self, name):\n",
    "        self.name = name\n",
    "\n",
    "    def speak(self):\n",
    "        pass\n",
    "\n",
    "class Dog(Animal):\n",
    "    def speak(self):\n",
    "        return f\"{self.name} says Woof!\"\n",
    "\n",
    "class Cat(Animal):\n",
    "    def speak(self):\n",
    "        return f\"{self.name} says Meow!\"\n",
    "dog = Dog(\"Buddy\")\n",
    "cat = Cat(\"Whiskers\")\n",
    "\n",
    "print(dog.speak())\n",
    "print(cat.speak())  "
   ]
  },
  {
   "cell_type": "code",
   "execution_count": null,
   "id": "af876c6e",
   "metadata": {},
   "outputs": [],
   "source": [
    "'''\n",
    "26.What is Instantiation in terms of OOP terminology?\n",
    "Ans:-\n",
    "       In Object-Oriented Programming (OOP) terminology, instantiation refers to the process\n",
    "       of creating an instance (object) of a class. An instance is a concrete, individual representation\n",
    "       of a class, and it has its own unique attributes and can perform actions as defined by the class.\n",
    "\n",
    "Class Definition: In OOP, you define a class to create a blueprint or a template for objects.\n",
    "A class specifies the attributes (data) and methods (functions) that its instances will have.\n",
    "\n",
    "Object Creation: To use a class, you create one or more instances of that class. This process of creating an instance is called instantiation.\n",
    "\n",
    "Attributes and Methods: Each instance of a class has its own set of attributes, which are often initialized\n",
    "during instantiation using a constructor method (e.g., __init__ in Python).\n",
    "Instances can also call the methods defined in the class.\n",
    "\n",
    "Independence: Instances created from the same class are independent of each other. Changes to one\n",
    "instance's attributes or method invocations do not affect other instances of the same class.\n",
    "'''"
   ]
  },
  {
   "cell_type": "code",
   "execution_count": null,
   "id": "f5eb82b2",
   "metadata": {},
   "outputs": [],
   "source": [
    "'''\n",
    "  27. What is used to check whether an object o is an instance of class A? \n",
    "'''\n",
    "class A:\n",
    "    pass\n",
    "obj = A()\n",
    "if isinstance(obj, A):\n",
    "    print(\"obj is an instance of class A\")\n",
    "else:\n",
    "    print(\"obj is not an instance of class A\")"
   ]
  },
  {
   "cell_type": "code",
   "execution_count": null,
   "id": "6074b2ec",
   "metadata": {},
   "outputs": [],
   "source": [
    "'''\n",
    "28.What relationship is appropriate for Course and Faculty?\n",
    "\n",
    "'''\n",
    "class Faculty:\n",
    "    def __init__(self, name, department):\n",
    "        self.name = name\n",
    "        self.department = department\n",
    "\n",
    "class Course:\n",
    "    def __init__(self, course_code, course_name, faculty):\n",
    "        self.course_code = course_code\n",
    "        self.course_name = course_name\n",
    "        self.faculty = faculty\n",
    "faculty1 = Faculty(\"Dr. Mahipal malviuya\", \"Computer Science\")\n",
    "faculty2 = Faculty(\"Prof. Ayush\", \"Mathematics\")\n",
    "\n",
    "course1 = Course(\"BCA\", \"Introduction to Programming\", faculty1)\n",
    "course2 = Course(\"Btech\", \"Maths\", faculty2)"
   ]
  },
  {
   "cell_type": "code",
   "execution_count": null,
   "id": "be7f3206",
   "metadata": {},
   "outputs": [],
   "source": [
    "'''\n",
    "29.What relationship is appropriate for Student and Person?\n",
    "'''\n",
    "class Person:\n",
    "    def __init__(self, name, age):\n",
    "        self.name = name\n",
    "        self.age = age\n",
    "\n",
    "class Student(Person):\n",
    "    def __init__(self, name, age, student_id):\n",
    "        super().__init__(name, age)\n",
    "        self.student_id = student_id\n",
    "\n",
    "person1 = Person(\"John Smith\", 30)\n",
    "student1 = Student(\"Alice Johnson\", 20, \"S12345\")"
   ]
  },
  {
   "cell_type": "code",
   "execution_count": null,
   "id": "fcc65c79",
   "metadata": {},
   "outputs": [],
   "source": []
  },
  {
   "cell_type": "code",
   "execution_count": null,
   "id": "bea12fb2",
   "metadata": {},
   "outputs": [],
   "source": []
  },
  {
   "cell_type": "code",
   "execution_count": null,
   "id": "699fab48",
   "metadata": {},
   "outputs": [],
   "source": []
  },
  {
   "cell_type": "code",
   "execution_count": null,
   "id": "6f8a8e15",
   "metadata": {},
   "outputs": [],
   "source": []
  },
  {
   "cell_type": "code",
   "execution_count": null,
   "id": "a180d9f1",
   "metadata": {},
   "outputs": [],
   "source": []
  },
  {
   "cell_type": "code",
   "execution_count": null,
   "id": "956ce7c4",
   "metadata": {},
   "outputs": [],
   "source": []
  },
  {
   "cell_type": "code",
   "execution_count": null,
   "id": "644a89b8",
   "metadata": {},
   "outputs": [],
   "source": []
  },
  {
   "cell_type": "code",
   "execution_count": null,
   "id": "337be9e8",
   "metadata": {},
   "outputs": [],
   "source": []
  },
  {
   "cell_type": "code",
   "execution_count": null,
   "id": "2ee7d879",
   "metadata": {},
   "outputs": [],
   "source": []
  },
  {
   "cell_type": "code",
   "execution_count": null,
   "id": "64fe692d",
   "metadata": {},
   "outputs": [],
   "source": []
  },
  {
   "cell_type": "code",
   "execution_count": null,
   "id": "edc7a5fe",
   "metadata": {},
   "outputs": [],
   "source": []
  },
  {
   "cell_type": "code",
   "execution_count": null,
   "id": "da73ce9e",
   "metadata": {},
   "outputs": [],
   "source": []
  },
  {
   "cell_type": "code",
   "execution_count": null,
   "id": "b8091427",
   "metadata": {},
   "outputs": [],
   "source": []
  },
  {
   "cell_type": "code",
   "execution_count": null,
   "id": "7ab01ec6",
   "metadata": {},
   "outputs": [],
   "source": []
  },
  {
   "cell_type": "code",
   "execution_count": null,
   "id": "994a488b",
   "metadata": {},
   "outputs": [],
   "source": []
  },
  {
   "cell_type": "code",
   "execution_count": null,
   "id": "ccced1b7",
   "metadata": {},
   "outputs": [],
   "source": []
  },
  {
   "cell_type": "code",
   "execution_count": null,
   "id": "0251e940",
   "metadata": {},
   "outputs": [],
   "source": []
  },
  {
   "cell_type": "code",
   "execution_count": null,
   "id": "961e1b11",
   "metadata": {},
   "outputs": [],
   "source": []
  },
  {
   "cell_type": "code",
   "execution_count": null,
   "id": "7caa7554",
   "metadata": {},
   "outputs": [],
   "source": []
  },
  {
   "cell_type": "code",
   "execution_count": null,
   "id": "2fd9bc36",
   "metadata": {},
   "outputs": [],
   "source": []
  }
 ],
 "metadata": {
  "kernelspec": {
   "display_name": "Python 3 (ipykernel)",
   "language": "python",
   "name": "python3"
  },
  "language_info": {
   "codemirror_mode": {
    "name": "ipython",
    "version": 3
   },
   "file_extension": ".py",
   "mimetype": "text/x-python",
   "name": "python",
   "nbconvert_exporter": "python",
   "pygments_lexer": "ipython3",
   "version": "3.11.5"
  }
 },
 "nbformat": 4,
 "nbformat_minor": 5
}
