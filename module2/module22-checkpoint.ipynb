{
 "cells": [
  {
   "cell_type": "code",
   "execution_count": 4,
   "id": "9da2365b",
   "metadata": {},
   "outputs": [
    {
     "name": "stdout",
     "output_type": "stream",
     "text": [
      "Enter a number: -1\n",
      "negative  number\n"
     ]
    }
   ],
   "source": [
    "# Write a Python program to check if a number is positive, negative or zero?\n",
    "\n",
    "n = float(input(\"Enter a number: \"))\n",
    "\n",
    "if n< 0:\n",
    "    print(\"negative  number\")\n",
    "elif n == 0:\n",
    "    print(\"Zero\")\n",
    "else:\n",
    "    print(\"positive number\")"
   ]
  },
  {
   "cell_type": "code",
   "execution_count": 6,
   "id": "a6aaa165",
   "metadata": {},
   "outputs": [
    {
     "name": "stdout",
     "output_type": "stream",
     "text": [
      "Enter a number: 4\n",
      "the factorial of 4 is 24\n"
     ]
    }
   ],
   "source": [
    "# Write a Python program to get the Factorial number of given number ?\n",
    " \n",
    "num=int(input('Enter a number: '))\n",
    "factorial=1\n",
    "\n",
    "#If number is negative\n",
    "if num<0:\n",
    "    print(\"factorial does not exits for nagetive number\")\n",
    "\n",
    "    #If number is 0\n",
    "elif num == 0:\n",
    "    print(\"the factorial of 0 is 1\")\n",
    "\n",
    "    #If number is positive\n",
    "else:\n",
    "    for i in range(1, num+1):\n",
    "        factorial = factorial*i\n",
    "    print(\"the factorial of\",num,\"is\",factorial)   "
   ]
  },
  {
   "cell_type": "code",
   "execution_count": 12,
   "id": "9cf6c912",
   "metadata": {},
   "outputs": [
    {
     "name": "stdout",
     "output_type": "stream",
     "text": [
      "6\n",
      "1\n",
      "2\n",
      "3\n",
      "5\n"
     ]
    }
   ],
   "source": [
    "# Write a Python program to get the Fibonacci series of given range ?\n",
    " \n",
    "x=int(input())\n",
    "y=0\n",
    "z=1\n",
    "for i in range(2, x):\n",
    "    d=y+z\n",
    "    y=z\n",
    "    z=d\n",
    "    print(d)    "
   ]
  },
  {
   "cell_type": "code",
   "execution_count": 13,
   "id": "750498cb",
   "metadata": {},
   "outputs": [],
   "source": [
    "# How memory is managed in Python?\n",
    "  \n",
    "# ans:-Memory management in Python involves a private heap containing all Python objects and data structures. The management of this private heap is ensured internally by the Python memory manager."
   ]
  },
  {
   "cell_type": "code",
   "execution_count": null,
   "id": "2b327bf5",
   "metadata": {},
   "outputs": [],
   "source": [
    "# What is the purpose continue statement in python?\n",
    "\n",
    "# ans:-The continue keyword is used to end the current iteration in a for loop (or a while loop), and continues to the next iteration."
   ]
  },
  {
   "cell_type": "code",
   "execution_count": 18,
   "id": "0659fe93",
   "metadata": {},
   "outputs": [
    {
     "name": "stdout",
     "output_type": "stream",
     "text": [
      "Enter 1st number: 2\n",
      "Enter 2nd number: 3\n",
      "before swapping r = 2 u = 3\n",
      "after swapping r = 3 u = 2\n"
     ]
    }
   ],
   "source": [
    "# Write python program that swap two number with temp variable and without temp variable ?\n",
    "\n",
    "r = int(input('Enter 1st number: '))\n",
    "u = int(input('Enter 2nd number: '))\n",
    "print(f'before swapping r = {r} u = {u}')\n",
    "temp = r\n",
    "r = u\n",
    "u = temp\n",
    "print(f'after swapping r = {r} u = {u}')\n"
   ]
  },
  {
   "cell_type": "code",
   "execution_count": 20,
   "id": "c727c4c5",
   "metadata": {},
   "outputs": [
    {
     "name": "stdout",
     "output_type": "stream",
     "text": [
      "Enter A Number: 2\n",
      "This number is Even\n"
     ]
    }
   ],
   "source": [
    "# Write a Python program to find whether a given number is even or odd, print out an appropriate message to the user ?\n",
    "\n",
    "num = int (input(\"Enter A Number: \"))\n",
    "if (num % 2) == 0:\n",
    " print(\"This number is Even\")\n",
    "else:\n",
    " print(\"This Number Is Odd\")"
   ]
  },
  {
   "cell_type": "code",
   "execution_count": 26,
   "id": "3e501ef2",
   "metadata": {},
   "outputs": [
    {
     "name": "stdout",
     "output_type": "stream",
     "text": [
      "Enter a letter: s\n",
      "s is not vowel\n"
     ]
    }
   ],
   "source": [
    "# Write a Python program to test whether a passed letter is a vowel or not ?\n",
    "\n",
    "r=input('Enter a letter: ')\n",
    "if r=='a' or r=='e'or r=='i' or r=='o' or r=='u':\n",
    "    print(f'{r} is vowel')\n",
    "else:\n",
    "    print(f'{r} is not vowel')"
   ]
  },
  {
   "cell_type": "code",
   "execution_count": 27,
   "id": "b346eb74",
   "metadata": {},
   "outputs": [
    {
     "name": "stdout",
     "output_type": "stream",
     "text": [
      "Enter 1st number: 2\n",
      "Enter 2nd number: 3\n",
      "Enter 3rd number: 4\n",
      "9\n"
     ]
    }
   ],
   "source": [
    "# Write a Python program to sum of three given integers. However, if two values are equal sum will be zero ?\n",
    "\n",
    "m=int(input('Enter 1st number: '))\n",
    "n=int(input('Enter 2nd number: '))\n",
    "o=int(input('Enter 3rd number: '))\n",
    "if m==n or n==o or m==o:\n",
    "    print('sum=0')\n",
    "else:\n",
    "    sum=m+n+o\n",
    "    print(sum)"
   ]
  },
  {
   "cell_type": "code",
   "execution_count": 32,
   "id": "e27723ba",
   "metadata": {},
   "outputs": [
    {
     "name": "stdout",
     "output_type": "stream",
     "text": [
      "Enter 1st Value: 5\n",
      "Enter 2nd Value: 5\n",
      "True\n"
     ]
    }
   ],
   "source": [
    "# Write a Python program that will return true if the two given integer values are equal or their sum or difference is 5 ?\n",
    "\n",
    "a=int(input('Enter 1st Value: '))\n",
    "b=int(input('Enter 2nd Value: '))\n",
    "if a==b or (a+b)==5 or (a-b)==5 or (b-a)==5:\n",
    "    print(True)\n",
    "else:\n",
    "    print(False)"
   ]
  },
  {
   "cell_type": "code",
   "execution_count": 34,
   "id": "5f4a8eb8",
   "metadata": {},
   "outputs": [
    {
     "name": "stdout",
     "output_type": "stream",
     "text": [
      "Enter something here: ayush\n",
      "5\n"
     ]
    }
   ],
   "source": [
    "# Write a Python program to calculate the length of a string ?\n",
    "\n",
    "a=input('Enter something here: ')\n",
    "b=0\n",
    "for i in a:\n",
    "    b += 1\n",
    "else:\n",
    "    print(b)"
   ]
  },
  {
   "cell_type": "code",
   "execution_count": 38,
   "id": "923c23af",
   "metadata": {},
   "outputs": [
    {
     "name": "stdout",
     "output_type": "stream",
     "text": [
      "Enter a number: 5\n",
      "5 is positive int. 15.0\n"
     ]
    }
   ],
   "source": [
    "#  Write a python program to sum of the first n positive integers ?\n",
    " \n",
    "x=int(input('Enter a number: '))\n",
    "y=((x*(x+1))/2)\n",
    "print(f'{x} is positive int. {y}')    "
   ]
  },
  {
   "cell_type": "code",
   "execution_count": 41,
   "id": "36676a64",
   "metadata": {},
   "outputs": [
    {
     "name": "stdout",
     "output_type": "stream",
     "text": [
      "Enter a string: ayush\n",
      "Character frequency:\n",
      "'a': 1\n",
      "'y': 1\n",
      "'u': 1\n",
      "'s': 1\n",
      "'h': 1\n"
     ]
    }
   ],
   "source": [
    "# Write a Python program to count the number of characters (character frequency) in a string ?\n",
    "\n",
    "def count_characters(string):\n",
    "    \n",
    "    char_frequency = {}\n",
    "\n",
    "    for char in string:\n",
    "        if char in char_frequency:\n",
    "            char_frequency[char] += 1\n",
    "        else:\n",
    "            char_frequency[char] = 1\n",
    "\n",
    "    return char_frequency\n",
    "\n",
    "input_string = input(\"Enter a string: \")\n",
    "\n",
    "frequency = count_characters(input_string)\n",
    "\n",
    "print(\"Character frequency:\")\n",
    "for char, freq in frequency.items():\n",
    "    print(f\"'{char}': {freq}\")\n"
   ]
  },
  {
   "cell_type": "code",
   "execution_count": null,
   "id": "77ec6c9f",
   "metadata": {},
   "outputs": [],
   "source": [
    "# What are negative indexes and why are they used ?\n",
    "# ans:-  Negative Indexing is used to in Python to begin slicing from the end of the string i.e. the last. Slicing in Python gets a sub-string from a string. The slicing range is set as parameters i.e. start, stop and step.\n",
    "\n"
   ]
  },
  {
   "cell_type": "code",
   "execution_count": 42,
   "id": "b6189cf8",
   "metadata": {},
   "outputs": [
    {
     "name": "stdout",
     "output_type": "stream",
     "text": [
      "22\n",
      "22\n"
     ]
    }
   ],
   "source": [
    "# Write a Python program to count occurrences of a substring in a string ?\n",
    "\n",
    "string = \"Hello my name is ayush\"\n",
    "count = 0\n",
    "for i in string:\n",
    "    count+=1\n",
    "print(count)\n",
    "#using length()\n",
    "print(len(string))\n",
    "    \n"
   ]
  },
  {
   "cell_type": "code",
   "execution_count": 48,
   "id": "f55d7c13",
   "metadata": {},
   "outputs": [
    {
     "name": "stdout",
     "output_type": "stream",
     "text": [
      "Enter a string:- ayush\n",
      "{'a': 1, 'y': 1, 'u': 1, 's': 1, 'h': 1}\n"
     ]
    }
   ],
   "source": [
    "# Write a Python program to count the occurrences of each word in a given sentence ?\n",
    "\n",
    "name=input(\"Enter a string:- \")\n",
    "space={}\n",
    "for y in name:\n",
    "    if y in space:\n",
    "        space[y]+=1\n",
    "    else:\n",
    "        space[y]=1\n",
    "print(space) \n"
   ]
  },
  {
   "cell_type": "code",
   "execution_count": null,
   "id": "addc5016",
   "metadata": {},
   "outputs": [],
   "source": [
    "# What are negative indexes and why are they used?\n",
    "\n",
    "# ans:- Negative Indexing is used to in Python to begin slicing from the end of the string.\n"
   ]
  },
  {
   "cell_type": "code",
   "execution_count": 55,
   "id": "ecd15eb6",
   "metadata": {},
   "outputs": [
    {
     "name": "stdout",
     "output_type": "stream",
     "text": [
      "1\n"
     ]
    }
   ],
   "source": [
    "# Write a Python program to count occurrences of a substring in a strin ?\n",
    "\n",
    "str1 = 'hello  my name is raj.'\n",
    "print(str1.count(\"raj\"))"
   ]
  },
  {
   "cell_type": "code",
   "execution_count": 57,
   "id": "23acce7a",
   "metadata": {},
   "outputs": [
    {
     "name": "stdout",
     "output_type": "stream",
     "text": [
      "{'ayush': 1, 'is': 1, 'word.': 1}\n"
     ]
    }
   ],
   "source": [
    "# Write a Python program to count the occurrences of each word in a given sentence?\n",
    "\n",
    "def word_count(str):\n",
    "    counts = dict()\n",
    "    words = str.split()\n",
    "\n",
    "    for word in words:\n",
    "        if word in counts:\n",
    "            counts[word] += 1\n",
    "        else:\n",
    "            counts[word] = 1\n",
    "\n",
    "    return counts\n",
    "\n",
    "print( word_count('ayush is word.'))"
   ]
  },
  {
   "cell_type": "code",
   "execution_count": 63,
   "id": "b271837f",
   "metadata": {},
   "outputs": [
    {
     "name": "stdout",
     "output_type": "stream",
     "text": [
      "efo mng\n"
     ]
    }
   ],
   "source": [
    "# Write a Python program to get a single string from two given strings, separated by a space and swap the first two characters of each string ?\n",
    "\n",
    "def chars_mix_up(x, y):\n",
    "  t = y[:2] + x[2:]\n",
    "  v = x[:2] + y[2:]\n",
    "\n",
    "  return t + ' ' + v\n",
    "print(chars_mix_up('mno', 'efg'))"
   ]
  },
  {
   "cell_type": "code",
   "execution_count": 66,
   "id": "f3cd4204",
   "metadata": {},
   "outputs": [
    {
     "name": "stdout",
     "output_type": "stream",
     "text": [
      "enter a character:-ayush\n",
      "ayushing\n"
     ]
    }
   ],
   "source": [
    "''' Write a Python program to add 'ing' at the end of a given string (length \n",
    "should be at least 3). If the given string already ends with 'ing' then add \n",
    "'ly' instead if the string length of the given string is less than 3, leave it \n",
    "unchanged.\n",
    "'''\n",
    "key1=str(input(\"enter a character:-\"))\n",
    "length=len(key1)\n",
    "if length>2:\n",
    "    if key1[-3:]=='ing':\n",
    "        key1 +='ly'\n",
    "    else:\n",
    "        key1 +=\"ing\"\n",
    "print(key1)"
   ]
  },
  {
   "cell_type": "code",
   "execution_count": 81,
   "id": "511c5491",
   "metadata": {},
   "outputs": [
    {
     "name": "stdout",
     "output_type": "stream",
     "text": [
      "Enter a string:- good\n",
      "good\n"
     ]
    }
   ],
   "source": [
    "''' Write a Python program to find the first appearance of the substring \n",
    "'not' and 'poor' from a given string, if 'not' follows the 'poor', replace the \n",
    "whole 'not'...'poor' substring with 'good'. Return the resulting string.'''\n",
    "\n",
    "a= input(\"Enter a string:- \")\n",
    "c=a.find(\"not\")\n",
    "d=a.find(\"poor\")\n",
    "if (c>=0 and d>=0):\n",
    "  a=a.replace(a[c:d+4],\"good\")\n",
    "print(a)"
   ]
  },
  {
   "cell_type": "code",
   "execution_count": 76,
   "id": "36a38d6e",
   "metadata": {},
   "outputs": [
    {
     "name": "stdout",
     "output_type": "stream",
     "text": [
      "longest word = krish , length= 5\n"
     ]
    }
   ],
   "source": [
    "# Write a Python function that takes a list of words and returns the length of the longest one ?\n",
    "\n",
    "def long(words):\n",
    "    check=max(words,key=len)\n",
    "    print(\"longest word =\", check, \", length=\", len(check))\n",
    " # Driver Program\n",
    "a = [\"krish\", \"heet\", \"raj\"]\n",
    "long(a)"
   ]
  },
  {
   "cell_type": "code",
   "execution_count": 70,
   "id": "27a72da0",
   "metadata": {},
   "outputs": [
    {
     "name": "stdout",
     "output_type": "stream",
     "text": [
      "Enter the String :raj\n",
      "raj\n"
     ]
    }
   ],
   "source": [
    "# Write a Python function to reverses a string if its length is a multiple of 4 ?\n",
    "\n",
    "string=input(\"Enter the String :\")\n",
    "if len(string) % 4 == 0:\n",
    "   print(''.join(reversed(string)))\n",
    "else:\n",
    "   print(string)"
   ]
  },
  {
   "cell_type": "code",
   "execution_count": 74,
   "id": "ad0bb58b",
   "metadata": {},
   "outputs": [
    {
     "name": "stdout",
     "output_type": "stream",
     "text": [
      "\n",
      "ayyu\n",
      "aysh\n"
     ]
    }
   ],
   "source": [
    "'''Write a Python program to get a string made of the first 2 and the last \n",
    "2 chars from a given a string. If the string length is less than 2, return \n",
    "instead of the empty string. '''\n",
    "\n",
    "def string_both_ends(str):\n",
    "  if len(str) < 2:\n",
    "    return ''\n",
    "\n",
    "  return str[0:2] + str[-2:]\n",
    "\n",
    "print(string_both_ends('a'))\n",
    "print(string_both_ends('ayu'))\n",
    "print(string_both_ends('ayush'))"
   ]
  },
  {
   "cell_type": "code",
   "execution_count": 73,
   "id": "20653189",
   "metadata": {},
   "outputs": [
    {
     "name": "stdout",
     "output_type": "stream",
     "text": [
      "[{ayush}]\n"
     ]
    }
   ],
   "source": [
    "# Write a Python function to insert a string in the middle of a string ?\n",
    "\n",
    "def insert_string(str,word):\n",
    "    return str[:2] + word + str[2:]\n",
    "\n",
    "print(insert_string('[{}]', 'ayush'))\n"
   ]
  },
  {
   "cell_type": "code",
   "execution_count": null,
   "id": "466679c0",
   "metadata": {},
   "outputs": [],
   "source": []
  },
  {
   "cell_type": "code",
   "execution_count": null,
   "id": "2a32c1b8",
   "metadata": {},
   "outputs": [],
   "source": []
  },
  {
   "cell_type": "code",
   "execution_count": null,
   "id": "f83a166d",
   "metadata": {},
   "outputs": [],
   "source": []
  },
  {
   "cell_type": "code",
   "execution_count": null,
   "id": "91a2f07b",
   "metadata": {},
   "outputs": [],
   "source": []
  },
  {
   "cell_type": "code",
   "execution_count": null,
   "id": "d897b9fc",
   "metadata": {},
   "outputs": [],
   "source": []
  },
  {
   "cell_type": "code",
   "execution_count": null,
   "id": "a997e81d",
   "metadata": {},
   "outputs": [],
   "source": []
  },
  {
   "cell_type": "code",
   "execution_count": null,
   "id": "fce04948",
   "metadata": {},
   "outputs": [],
   "source": []
  },
  {
   "cell_type": "code",
   "execution_count": null,
   "id": "f37e8436",
   "metadata": {},
   "outputs": [],
   "source": []
  },
  {
   "cell_type": "code",
   "execution_count": null,
   "id": "38ad6804",
   "metadata": {},
   "outputs": [],
   "source": []
  },
  {
   "cell_type": "code",
   "execution_count": null,
   "id": "b4e72de3",
   "metadata": {},
   "outputs": [],
   "source": []
  },
  {
   "cell_type": "code",
   "execution_count": null,
   "id": "ab817d8a",
   "metadata": {},
   "outputs": [],
   "source": []
  },
  {
   "cell_type": "code",
   "execution_count": null,
   "id": "522949e4",
   "metadata": {},
   "outputs": [],
   "source": []
  },
  {
   "cell_type": "code",
   "execution_count": null,
   "id": "5cc76151",
   "metadata": {},
   "outputs": [],
   "source": []
  },
  {
   "cell_type": "code",
   "execution_count": null,
   "id": "535d12ce",
   "metadata": {},
   "outputs": [],
   "source": []
  },
  {
   "cell_type": "code",
   "execution_count": null,
   "id": "fef7cb5f",
   "metadata": {},
   "outputs": [],
   "source": []
  },
  {
   "cell_type": "code",
   "execution_count": null,
   "id": "d9b70dfa",
   "metadata": {},
   "outputs": [],
   "source": []
  },
  {
   "cell_type": "code",
   "execution_count": null,
   "id": "b7a3f043",
   "metadata": {},
   "outputs": [],
   "source": []
  },
  {
   "cell_type": "code",
   "execution_count": null,
   "id": "c83ef9ed",
   "metadata": {},
   "outputs": [],
   "source": []
  },
  {
   "cell_type": "code",
   "execution_count": null,
   "id": "dc992381",
   "metadata": {},
   "outputs": [],
   "source": []
  },
  {
   "cell_type": "code",
   "execution_count": null,
   "id": "bd1601ee",
   "metadata": {},
   "outputs": [],
   "source": []
  },
  {
   "cell_type": "code",
   "execution_count": null,
   "id": "4f804aff",
   "metadata": {},
   "outputs": [],
   "source": []
  },
  {
   "cell_type": "code",
   "execution_count": null,
   "id": "78317959",
   "metadata": {},
   "outputs": [],
   "source": []
  },
  {
   "cell_type": "code",
   "execution_count": null,
   "id": "57fee2f8",
   "metadata": {},
   "outputs": [],
   "source": []
  },
  {
   "cell_type": "code",
   "execution_count": null,
   "id": "e3042763",
   "metadata": {},
   "outputs": [],
   "source": []
  },
  {
   "cell_type": "code",
   "execution_count": null,
   "id": "b819308a",
   "metadata": {},
   "outputs": [],
   "source": []
  },
  {
   "cell_type": "code",
   "execution_count": null,
   "id": "d6be1fd5",
   "metadata": {},
   "outputs": [],
   "source": []
  },
  {
   "cell_type": "code",
   "execution_count": null,
   "id": "c604b2d1",
   "metadata": {},
   "outputs": [],
   "source": []
  },
  {
   "cell_type": "code",
   "execution_count": null,
   "id": "6a09d48c",
   "metadata": {},
   "outputs": [],
   "source": []
  },
  {
   "cell_type": "code",
   "execution_count": null,
   "id": "405b91cb",
   "metadata": {},
   "outputs": [],
   "source": []
  },
  {
   "cell_type": "code",
   "execution_count": null,
   "id": "4403a49a",
   "metadata": {},
   "outputs": [],
   "source": []
  },
  {
   "cell_type": "code",
   "execution_count": null,
   "id": "2651c9bf",
   "metadata": {},
   "outputs": [],
   "source": []
  },
  {
   "cell_type": "code",
   "execution_count": null,
   "id": "7ede05ac",
   "metadata": {},
   "outputs": [],
   "source": []
  },
  {
   "cell_type": "code",
   "execution_count": null,
   "id": "af9e3e7f",
   "metadata": {},
   "outputs": [],
   "source": []
  },
  {
   "cell_type": "code",
   "execution_count": null,
   "id": "89e45304",
   "metadata": {},
   "outputs": [],
   "source": []
  }
 ],
 "metadata": {
  "kernelspec": {
   "display_name": "Python 3 (ipykernel)",
   "language": "python",
   "name": "python3"
  },
  "language_info": {
   "codemirror_mode": {
    "name": "ipython",
    "version": 3
   },
   "file_extension": ".py",
   "mimetype": "text/x-python",
   "name": "python",
   "nbconvert_exporter": "python",
   "pygments_lexer": "ipython3",
   "version": "3.11.5"
  }
 },
 "nbformat": 4,
 "nbformat_minor": 5
}
